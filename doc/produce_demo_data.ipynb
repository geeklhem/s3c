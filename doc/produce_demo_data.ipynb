{
 "metadata": {
  "name": "",
  "signature": "sha256:b1c63712ded402076adcee61fa21899e7fca4200dce026914aaabf5eabeb5b72"
 },
 "nbformat": 3,
 "nbformat_minor": 0,
 "worksheets": [
  {
   "cells": [
    {
     "cell_type": "code",
     "collapsed": false,
     "input": [
      "import matplotlib.pyplot as plt\n",
      "import numpy as np\n",
      "import pandas as pd"
     ],
     "language": "python",
     "metadata": {},
     "outputs": [],
     "prompt_number": 1
    },
    {
     "cell_type": "code",
     "collapsed": false,
     "input": [
      "N = 4\n",
      "species_names = [\"SP{:03}\".format(x) for x in range(N)]\n",
      "sites_names = [\"ST{:03}\".format(x) for x in range(N)]\n",
      "years = [1,2,3]\n",
      "slopes = np.random.rand(N)\n",
      "traits = [np.random.normal(x) for x in slopes]\n",
      "trait_var = np.random.rand(N)\n",
      "\n",
      "census = []\n",
      "#census.csv\n",
      "for s in sites_names:\n",
      "    for sp,t,tv,slope in zip(species_names,traits,trait_var,slopes):\n",
      "        for y in years:\n",
      "            census.append({\"site\":s,\"species\":sp,\"date\":y,\"n\":np.random.poisson(max(0,y*slope*5+5))})\n",
      "            \n",
      "census = pd.DataFrame(census)\n",
      "census = census.loc[:,[\"site\",\"date\",\"species\",\"n\"]]\n",
      "census.to_csv(\"census.csv\", index=False)\n",
      "print census.head()\n",
      "\n",
      "#species.csv \n",
      "species = pd.DataFrame({\"species\":species_names,\n",
      "                        \"size\":traits,\n",
      "                        \"size_v\":trait_var})\n",
      "species = species.loc[:,[\"species\",\"size\",\"size_v\"]]\n",
      "species.to_csv(\"species.csv\", index=False)\n",
      "print species.head()\n",
      "\n",
      "\n"
     ],
     "language": "python",
     "metadata": {},
     "outputs": [
      {
       "output_type": "stream",
       "stream": "stdout",
       "text": [
        "    site  date species   n\n",
        "0  ST000     1   SP000   9\n",
        "1  ST000     2   SP000  18\n",
        "2  ST000     3   SP000  20\n",
        "3  ST000     1   SP001   6\n",
        "4  ST000     2   SP001  11\n",
        "  species      size    size_v\n",
        "0   SP000 -0.911700  0.391935\n",
        "1   SP001 -0.862751  0.037802\n",
        "2   SP002 -0.103468  0.950080\n",
        "3   SP003 -0.897792  0.770179\n"
       ]
      }
     ],
     "prompt_number": 15
    },
    {
     "cell_type": "code",
     "collapsed": false,
     "input": [
      "#Produce test\n",
      "import s3c\n",
      "col_names = {\"trait_val\":\"size\",\"trait_var\":\"size_v\"}\n",
      "cwindexes = s3c.cwi_stratified(census, species, col_names)\n",
      "cwindexes.to_csv(\"cwindexes.csv\", index=False)\n",
      "\n",
      "ctrb_date_1_3 = s3c.contrib(census.query(\"date==1\"),\n",
      "                            census.query(\"date==3\"),\n",
      "                            species,col_names)\n",
      "ctrb_date_1_3.to_csv(\"ctrb_date_1_3.csv\", index=False)\n",
      "\n",
      "contrib_trends = s3c.trend_contrib(census,species,col_names)\n",
      "contrib_trends.to_csv(\"ctrb_trends.csv\", index=False)"
     ],
     "language": "python",
     "metadata": {},
     "outputs": [],
     "prompt_number": 17
    },
    {
     "cell_type": "code",
     "collapsed": false,
     "input": [],
     "language": "python",
     "metadata": {},
     "outputs": []
    }
   ],
   "metadata": {}
  }
 ]
}