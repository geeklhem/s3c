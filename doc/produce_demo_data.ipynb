{
 "metadata": {
  "name": "",
  "signature": "sha256:56e357e626a837e7df89f0ab24478b91e978b7d7f93e0947ddb2e78d828c3e3a"
 },
 "nbformat": 3,
 "nbformat_minor": 0,
 "worksheets": [
  {
   "cells": [
    {
     "cell_type": "code",
     "collapsed": false,
     "input": [
      "import matplotlib.pyplot as plt\n",
      "import numpy as np\n",
      "import pandas as pd\n"
     ],
     "language": "python",
     "metadata": {},
     "outputs": [],
     "prompt_number": 1
    },
    {
     "cell_type": "code",
     "collapsed": false,
     "input": [
      "species_names = [\"SP{:03}\".format(x) for x in range(50)]\n",
      "sites_names = [\"ST{:03}\".format(x) for x in range(10)]\n",
      "\n",
      "#census.csv\n",
      "census = {\"site\":[],\"species\":[],\"date\":[],\"n\":[]}\n",
      "for y in [2003,2004,2005,2006,2007,2008]:\n",
      "    for obs in range(np.random.randint(100)):\n",
      "        census[\"site\"].append(np.random.choice(sites_names))\n",
      "        census[\"species\"].append(np.random.choice(species_names))\n",
      "        census[\"date\"].append(y)\n",
      "        census[\"n\"].append(np.random.randint(20))\n",
      "    \n",
      "census = pd.DataFrame(census)\n",
      "census = census.loc[:,[\"site\",\"date\",\"species\",\"n\"]]\n",
      "census.to_csv(\"census.csv\", index=False)\n",
      "print census.head()\n",
      "\n",
      "#species.csv \n",
      "species = pd.DataFrame({\"species\":species_names,\n",
      "                        \"size\":np.random.random(len(species_names))*100,\n",
      "                        \"size_v\":np.random.random(len(species_names))})\n",
      "species = species.loc[:,[\"species\",\"size\",\"size_v\"]]\n",
      "species.to_csv(\"species.csv\", index=False)\n",
      "\n",
      "print species.head()\n",
      "\n",
      "#sites.csv\n",
      "loc = pd.DataFrame({\"site\":sites_names,\n",
      "                    \"x\":np.random.random(len(sites_names))*100,\n",
      "                    \"y\":np.random.random(len(sites_names))*100})\n",
      "loc = loc.loc[:,[\"site\",\"x\",\"y\"]]\n",
      "loc.to_csv(\"sites.csv\", index=False)\n",
      "print loc.head()\n"
     ],
     "language": "python",
     "metadata": {},
     "outputs": [
      {
       "output_type": "stream",
       "stream": "stdout",
       "text": [
        "    site  date species  n\n",
        "0  ST007  2003   SP019  8\n",
        "1  ST004  2003   SP021  0\n",
        "2  ST008  2003   SP028  8\n",
        "3  ST005  2003   SP032  7\n",
        "4  ST007  2003   SP004  7\n",
        "  species       size    size_v\n",
        "0   SP000  43.534530  0.218857\n",
        "1   SP001  52.146126  0.024339\n",
        "2   SP002  82.948404  0.695674\n",
        "3   SP003  81.232978  0.392458\n",
        "4   SP004  23.811398  0.114248\n",
        "    site          x          y\n",
        "0  ST000  74.725151  89.155723\n",
        "1  ST001  63.586296  54.181202\n",
        "2  ST002  28.286953  26.746472\n",
        "3  ST003  64.645162  24.594029\n",
        "4  ST004  30.975652  93.664074\n"
       ]
      }
     ],
     "prompt_number": 22
    },
    {
     "cell_type": "code",
     "collapsed": false,
     "input": [],
     "language": "python",
     "metadata": {},
     "outputs": [],
     "prompt_number": 21
    },
    {
     "cell_type": "code",
     "collapsed": false,
     "input": [],
     "language": "python",
     "metadata": {},
     "outputs": []
    }
   ],
   "metadata": {}
  }
 ]
}