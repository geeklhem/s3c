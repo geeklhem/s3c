{
 "metadata": {
  "name": "",
  "signature": "sha256:7f5dd180f203753699075a43b6cf8b60a60c86e5fe51e082819c72944a83ae72"
 },
 "nbformat": 3,
 "nbformat_minor": 0,
 "worksheets": [
  {
   "cells": [
    {
     "cell_type": "code",
     "collapsed": false,
     "input": [
      "import matplotlib.pyplot as plt\n",
      "import numpy as np\n",
      "import pandas as pd\n"
     ],
     "language": "python",
     "metadata": {},
     "outputs": [],
     "prompt_number": 1
    },
    {
     "cell_type": "code",
     "collapsed": false,
     "input": [
      "species_names = [\"SP{:03}\".format(x) for x in range(50)]\n",
      "sites_names = [\"ST{:03}\".format(x) for x in range(10)]\n",
      "\n",
      "#census.csv\n",
      "census = {\"site\":[],\"species\":[],\"date\":[],\"n\":[]}\n",
      "for y in [2003,2004,2005,2006,2007,2008]:\n",
      "    for obs in range(np.random.randint(100)):\n",
      "        census[\"site\"].append(np.random.choice(sites_names))\n",
      "        census[\"species\"].append(np.random.choice(species_names))\n",
      "        census[\"date\"].append(y)\n",
      "        census[\"n\"].append(np.random.randint(20))\n",
      "    \n",
      "census = pd.DataFrame(census)\n",
      "census = census.loc[:,[\"site\",\"date\",\"species\",\"n\"]]\n",
      "census.to_csv(\"census.csv\", index=False)\n",
      "print census.head()\n",
      "\n",
      "#species.csv \n",
      "species = pd.DataFrame({\"species\":species_names,\n",
      "                        \"size\":np.random.random(len(species_names))*100,\n",
      "                        \"size_v\":np.random.random(len(species_names))})\n",
      "species = species.loc[:,[\"species\",\"size\",\"size_v\"]]\n",
      "species.to_csv(\"species.csv\", index=False)\n",
      "\n",
      "print species.head()"
     ],
     "language": "python",
     "metadata": {},
     "outputs": [
      {
       "output_type": "stream",
       "stream": "stdout",
       "text": [
        "    site  date species   n\n",
        "0  ST002  2003   SP005   7\n",
        "1  ST003  2003   SP043   6\n",
        "2  ST008  2003   SP009  12\n",
        "3  ST009  2003   SP041   9\n",
        "4  ST000  2003   SP014  18\n",
        "  species       size    size_v\n",
        "0   SP000  42.438661  0.142017\n",
        "1   SP001  83.603551  0.858112\n",
        "2   SP002  16.500325  0.536665\n",
        "3   SP003  67.915313  0.882916\n",
        "4   SP004  19.917934  0.104185\n"
       ]
      }
     ],
     "prompt_number": 18
    }
   ],
   "metadata": {}
  }
 ]
}