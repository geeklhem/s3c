{
 "metadata": {
  "name": "",
  "signature": "sha256:415b6397d36db79cd4d835f5e38be97c175719e92a194abc54de744006350dea"
 },
 "nbformat": 3,
 "nbformat_minor": 0,
 "worksheets": [
  {
   "cells": [
    {
     "cell_type": "markdown",
     "metadata": {},
     "source": [
      "# Specific contributions to community changes tutorial\n",
      "\n",
      "Welcome in the tutorial for the `s3c` python package to assess specific contributions to community changes.\n",
      "\n",
      "This tutorial is an [ipython notebook](http://ipython.org/notebook.html), you can read the static version on the internet or download the interactive version in order to fiddle with the code inside.\n",
      "\n",
      "## Data exploration\n",
      "\n",
      "We will start by importing a fake dataset included in the folder `doc/demo` of the package. \n",
      "The file `species.csv` contains the informations about the trait value of a species. The file `census.csv` gives the number of individuals of each species by date and surveyed site.\n",
      "\n",
      "In a lot of functions of `s3c`, default columns names are `n`, `date`, `site`, `species`, `trait_value`, `trait_var`. Note that you can overwrite thoses names by using the col_names dictionary."
     ]
    },
    {
     "cell_type": "code",
     "collapsed": false,
     "input": [
      "%pylab inline\n",
      "import pandas as pd\n",
      "import s3c"
     ],
     "language": "python",
     "metadata": {},
     "outputs": [
      {
       "output_type": "stream",
       "stream": "stdout",
       "text": [
        "Populating the interactive namespace from numpy and matplotlib\n"
       ]
      }
     ],
     "prompt_number": 1
    },
    {
     "cell_type": "code",
     "collapsed": false,
     "input": [
      "species = pd.read_csv(\"species.csv\")\n",
      "species.size_v = 0\n",
      "species.head()"
     ],
     "language": "python",
     "metadata": {},
     "outputs": [
      {
       "html": [
        "<div style=\"max-height:1000px;max-width:1500px;overflow:auto;\">\n",
        "<table border=\"1\" class=\"dataframe\">\n",
        "  <thead>\n",
        "    <tr style=\"text-align: right;\">\n",
        "      <th></th>\n",
        "      <th>species</th>\n",
        "      <th>size</th>\n",
        "      <th>size_v</th>\n",
        "    </tr>\n",
        "  </thead>\n",
        "  <tbody>\n",
        "    <tr>\n",
        "      <th>0</th>\n",
        "      <td> SP000</td>\n",
        "      <td>-0.911700</td>\n",
        "      <td> 0</td>\n",
        "    </tr>\n",
        "    <tr>\n",
        "      <th>1</th>\n",
        "      <td> SP001</td>\n",
        "      <td>-0.862751</td>\n",
        "      <td> 0</td>\n",
        "    </tr>\n",
        "    <tr>\n",
        "      <th>2</th>\n",
        "      <td> SP002</td>\n",
        "      <td>-0.103468</td>\n",
        "      <td> 0</td>\n",
        "    </tr>\n",
        "    <tr>\n",
        "      <th>3</th>\n",
        "      <td> SP003</td>\n",
        "      <td>-0.897792</td>\n",
        "      <td> 0</td>\n",
        "    </tr>\n",
        "  </tbody>\n",
        "</table>\n",
        "</div>"
       ],
       "metadata": {},
       "output_type": "pyout",
       "prompt_number": 2,
       "text": [
        "  species      size  size_v\n",
        "0   SP000 -0.911700       0\n",
        "1   SP001 -0.862751       0\n",
        "2   SP002 -0.103468       0\n",
        "3   SP003 -0.897792       0"
       ]
      }
     ],
     "prompt_number": 2
    },
    {
     "cell_type": "code",
     "collapsed": false,
     "input": [
      "census = pd.read_csv(\"census.csv\")\n",
      "census.head()"
     ],
     "language": "python",
     "metadata": {},
     "outputs": [
      {
       "html": [
        "<div style=\"max-height:1000px;max-width:1500px;overflow:auto;\">\n",
        "<table border=\"1\" class=\"dataframe\">\n",
        "  <thead>\n",
        "    <tr style=\"text-align: right;\">\n",
        "      <th></th>\n",
        "      <th>site</th>\n",
        "      <th>date</th>\n",
        "      <th>species</th>\n",
        "      <th>n</th>\n",
        "    </tr>\n",
        "  </thead>\n",
        "  <tbody>\n",
        "    <tr>\n",
        "      <th>0</th>\n",
        "      <td> ST000</td>\n",
        "      <td> 1</td>\n",
        "      <td> SP000</td>\n",
        "      <td>  9</td>\n",
        "    </tr>\n",
        "    <tr>\n",
        "      <th>1</th>\n",
        "      <td> ST000</td>\n",
        "      <td> 2</td>\n",
        "      <td> SP000</td>\n",
        "      <td> 18</td>\n",
        "    </tr>\n",
        "    <tr>\n",
        "      <th>2</th>\n",
        "      <td> ST000</td>\n",
        "      <td> 3</td>\n",
        "      <td> SP000</td>\n",
        "      <td> 20</td>\n",
        "    </tr>\n",
        "    <tr>\n",
        "      <th>3</th>\n",
        "      <td> ST000</td>\n",
        "      <td> 1</td>\n",
        "      <td> SP001</td>\n",
        "      <td>  6</td>\n",
        "    </tr>\n",
        "    <tr>\n",
        "      <th>4</th>\n",
        "      <td> ST000</td>\n",
        "      <td> 2</td>\n",
        "      <td> SP001</td>\n",
        "      <td> 11</td>\n",
        "    </tr>\n",
        "  </tbody>\n",
        "</table>\n",
        "</div>"
       ],
       "metadata": {},
       "output_type": "pyout",
       "prompt_number": 3,
       "text": [
        "    site  date species   n\n",
        "0  ST000     1   SP000   9\n",
        "1  ST000     2   SP000  18\n",
        "2  ST000     3   SP000  20\n",
        "3  ST000     1   SP001   6\n",
        "4  ST000     2   SP001  11"
       ]
      }
     ],
     "prompt_number": 3
    },
    {
     "cell_type": "markdown",
     "metadata": {},
     "source": [
      "## Compute local indices\n",
      "\n",
      "The function `s3c.cwm(census,species)` will compute the community weighted means (`cwm`) and variances (`cwv`)."
     ]
    },
    {
     "cell_type": "code",
     "collapsed": false,
     "input": [
      "out = s3c.cwi(census, species, col_names={\"trait_val\":\"size\",\"trait_var\":\"size_v\"})\n",
      "out"
     ],
     "language": "python",
     "metadata": {},
     "outputs": [
      {
       "metadata": {},
       "output_type": "pyout",
       "prompt_number": 4,
       "text": [
        "{'cwm': -0.74446209614719594, 'cwv': 0.098691692716842541}"
       ]
      }
     ],
     "prompt_number": 4
    },
    {
     "cell_type": "markdown",
     "metadata": {},
     "source": [
      "The `bootstrap=True` options will compute a bootstrap confidence interval for thoses indices. \n",
      "\n",
      "By default :\n",
      "- $b=1000$ redraw are performed, you can change this by using the option `bootstrap_n`.\n",
      "- The confidence interval is for the 5%-95% percentiles, you can change this by using the option `bootstrap_ci` (default=.95)"
     ]
    },
    {
     "cell_type": "code",
     "collapsed": false,
     "input": [
      "out = s3c.cwi(census, species,\n",
      "              col_names={\"trait_val\":\"size\",\"trait_var\":\"size_v\"},\n",
      "              bootstrap=True,\n",
      "              bootstrap_n=100,\n",
      "              bootstrap_ci=.95)\n",
      "\n",
      "print \"\\n\".join([\"{}: {}\".format(k,v) for k,v in out.items()])"
     ],
     "language": "python",
     "metadata": {},
     "outputs": [
      {
       "output_type": "stream",
       "stream": "stdout",
       "text": [
        "bootstrap_cwm_lower_ci: -0.704161875501\n",
        "bootstrap_cwm_higher_ci: -0.774560463112\n",
        "bootstrap_cwv_higher_ci: 0.0828671380349\n",
        "bootstrap_cwm: -0.742460950784\n",
        "bootstrap_cwv_lower_ci: 0.115725558003\n",
        "cwv: 0.0986916927168\n",
        "cwm: -0.744462096147\n",
        "bootstrap_cwv: 0.0994261123809\n"
       ]
      }
     ],
     "prompt_number": 55
    },
    {
     "cell_type": "markdown",
     "metadata": {},
     "source": [
      "## Compute specific contributions to variations\n",
      "\n",
      "The function `s3c.contrib(initial_census,final_census,species)` will compute the community weighted means and variances specific contributions and their decompositions."
     ]
    },
    {
     "cell_type": "code",
     "collapsed": false,
     "input": [
      "ctrb = s3c.contrib(census.query(\"date==2\"),\n",
      "                   census.query(\"date==3\"),\n",
      "                   species,col_names={\"trait_val\":\"size\",\"trait_var\":\"size_v\"})\n",
      "ctrb.head()"
     ],
     "language": "python",
     "metadata": {},
     "outputs": [
      {
       "html": [
        "<div style=\"max-height:1000px;max-width:1500px;overflow:auto;\">\n",
        "<table border=\"1\" class=\"dataframe\">\n",
        "  <thead>\n",
        "    <tr style=\"text-align: right;\">\n",
        "      <th></th>\n",
        "      <th>species</th>\n",
        "      <th>originality</th>\n",
        "      <th>v_originality</th>\n",
        "      <th>dp</th>\n",
        "      <th>contrib</th>\n",
        "      <th>v_contrib</th>\n",
        "    </tr>\n",
        "  </thead>\n",
        "  <tbody>\n",
        "    <tr>\n",
        "      <th>0</th>\n",
        "      <td> SP000</td>\n",
        "      <td>-0.217772</td>\n",
        "      <td> 0.233129</td>\n",
        "      <td> 0.044406</td>\n",
        "      <td>-0.009670</td>\n",
        "      <td>-0.003833</td>\n",
        "    </tr>\n",
        "    <tr>\n",
        "      <th>1</th>\n",
        "      <td> SP001</td>\n",
        "      <td>-0.168823</td>\n",
        "      <td> 0.146271</td>\n",
        "      <td> 0.002794</td>\n",
        "      <td>-0.000472</td>\n",
        "      <td>-0.000283</td>\n",
        "    </tr>\n",
        "    <tr>\n",
        "      <th>2</th>\n",
        "      <td> SP002</td>\n",
        "      <td> 0.590460</td>\n",
        "      <td>-0.587362</td>\n",
        "      <td>-0.035037</td>\n",
        "      <td>-0.020688</td>\n",
        "      <td>-0.009768</td>\n",
        "    </tr>\n",
        "    <tr>\n",
        "      <th>3</th>\n",
        "      <td> SP003</td>\n",
        "      <td>-0.203864</td>\n",
        "      <td> 0.207962</td>\n",
        "      <td>-0.012163</td>\n",
        "      <td> 0.002480</td>\n",
        "      <td> 0.001108</td>\n",
        "    </tr>\n",
        "  </tbody>\n",
        "</table>\n",
        "</div>"
       ],
       "metadata": {},
       "output_type": "pyout",
       "prompt_number": 21,
       "text": [
        "  species  originality  v_originality        dp   contrib  v_contrib\n",
        "0   SP000    -0.217772       0.233129  0.044406 -0.009670  -0.003833\n",
        "1   SP001    -0.168823       0.146271  0.002794 -0.000472  -0.000283\n",
        "2   SP002     0.590460      -0.587362 -0.035037 -0.020688  -0.009768\n",
        "3   SP003    -0.203864       0.207962 -0.012163  0.002480   0.001108"
       ]
      }
     ],
     "prompt_number": 21
    },
    {
     "cell_type": "markdown",
     "metadata": {},
     "source": [
      "You can check that the sum of contributions is equal to the variation of the indice (for the variation, this exact if sample are big enough, or if we ignore Bessel's correction for small sample) :"
     ]
    },
    {
     "cell_type": "code",
     "collapsed": false,
     "input": [
      "cwm2003 = s3c.cwi(census.query(\"date==3\"), species, col_names={\"trait_val\":\"size\",\"trait_var\":\"size_v\"}, bessel=False)\n",
      "cwm2002 = s3c.cwi(census.query(\"date==2\"), species, col_names={\"trait_val\":\"size\",\"trait_var\":\"size_v\"}, bessel=False)\n",
      "\n",
      "deltaCWM = cwm2003[\"cwm\"] - cwm2002[\"cwm\"]\n",
      "print \"CWM variation:    {}\".format(deltaCWM)\n",
      "print \"Contribution sum: {}\".format(ctrb.contrib.sum())\n",
      "\n",
      "deltaCWV = cwm2003[\"cwv\"] - cwm2002[\"cwv\"]\n",
      "print \"CWV variation:    {}\".format(deltaCWV)\n",
      "print \"Contribution sum: {}\".format(ctrb.v_contrib.sum())"
     ],
     "language": "python",
     "metadata": {},
     "outputs": [
      {
       "output_type": "stream",
       "stream": "stdout",
       "text": [
        "CWM variation:    -0.0283506231002\n",
        "Contribution sum: -0.0283506231002\n",
        "CWV variation:    -0.0127762806427\n",
        "Contribution sum: -0.0127762806427\n"
       ]
      }
     ],
     "prompt_number": 23
    },
    {
     "cell_type": "markdown",
     "metadata": {},
     "source": [
      "### Contributions on trends\n",
      "\n",
      "When multiple census are available through time, an alternative to compute the specific contribution for each pair of years is to compute it using the trends in the relative abundances. If the trends are computed by ordinary least square, the summation properties of cwm contributions stills hold. [NB: In this dataset the results are particularly awful because the CWM is random each year, so the estimated trends are always full of errors, I have to use a better test dataset]\n",
      "\n"
     ]
    },
    {
     "cell_type": "code",
     "collapsed": false,
     "input": [
      "contrib = s3c.trend_contrib(census,species,{\"trait_val\":\"size\",\"trait_var\":\"size_v\"})\n",
      "contrib.head()"
     ],
     "language": "python",
     "metadata": {},
     "outputs": [
      {
       "html": [
        "<div style=\"max-height:1000px;max-width:1500px;overflow:auto;\">\n",
        "<table border=\"1\" class=\"dataframe\">\n",
        "  <thead>\n",
        "    <tr style=\"text-align: right;\">\n",
        "      <th></th>\n",
        "      <th>species</th>\n",
        "      <th>size</th>\n",
        "      <th>size_v</th>\n",
        "      <th>originality</th>\n",
        "      <th>v_originality</th>\n",
        "      <th>dp</th>\n",
        "      <th>contrib</th>\n",
        "      <th>v_contrib</th>\n",
        "    </tr>\n",
        "  </thead>\n",
        "  <tbody>\n",
        "    <tr>\n",
        "      <th>0</th>\n",
        "      <td> SP002</td>\n",
        "      <td>-0.103468</td>\n",
        "      <td> 0</td>\n",
        "      <td> 0.590460</td>\n",
        "      <td>-0.587362</td>\n",
        "      <td> 0.016782</td>\n",
        "      <td> 0.009909</td>\n",
        "      <td> 0.005205</td>\n",
        "    </tr>\n",
        "    <tr>\n",
        "      <th>1</th>\n",
        "      <td> SP003</td>\n",
        "      <td>-0.897792</td>\n",
        "      <td> 0</td>\n",
        "      <td>-0.203864</td>\n",
        "      <td> 0.207962</td>\n",
        "      <td>-0.040799</td>\n",
        "      <td> 0.008317</td>\n",
        "      <td> 0.004158</td>\n",
        "    </tr>\n",
        "    <tr>\n",
        "      <th>2</th>\n",
        "      <td> SP001</td>\n",
        "      <td>-0.862751</td>\n",
        "      <td> 0</td>\n",
        "      <td>-0.168823</td>\n",
        "      <td> 0.146271</td>\n",
        "      <td>-0.012587</td>\n",
        "      <td> 0.002125</td>\n",
        "      <td> 0.001389</td>\n",
        "    </tr>\n",
        "    <tr>\n",
        "      <th>3</th>\n",
        "      <td> SP000</td>\n",
        "      <td>-0.911700</td>\n",
        "      <td> 0</td>\n",
        "      <td>-0.217772</td>\n",
        "      <td> 0.233129</td>\n",
        "      <td> 0.036603</td>\n",
        "      <td>-0.007971</td>\n",
        "      <td>-0.003583</td>\n",
        "    </tr>\n",
        "  </tbody>\n",
        "</table>\n",
        "</div>"
       ],
       "metadata": {},
       "output_type": "pyout",
       "prompt_number": 58,
       "text": [
        "  species      size  size_v  originality  v_originality        dp   contrib  \\\n",
        "0   SP002 -0.103468       0     0.590460      -0.587362  0.016782  0.009909   \n",
        "1   SP003 -0.897792       0    -0.203864       0.207962 -0.040799  0.008317   \n",
        "2   SP001 -0.862751       0    -0.168823       0.146271 -0.012587  0.002125   \n",
        "3   SP000 -0.911700       0    -0.217772       0.233129  0.036603 -0.007971   \n",
        "\n",
        "   v_contrib  \n",
        "0   0.005205  \n",
        "1   0.004158  \n",
        "2   0.001389  \n",
        "3  -0.003583  "
       ]
      }
     ],
     "prompt_number": 58
    },
    {
     "cell_type": "markdown",
     "metadata": {},
     "source": [
      "Once again, you can check that the sum of contributions is equal to the variation of the indice :"
     ]
    },
    {
     "cell_type": "code",
     "collapsed": false,
     "input": [
      "## Computing the yearly indices\n",
      "yearly = []\n",
      "for date, df in census.groupby(\"date\"):\n",
      "    yearly.append(s3c.cwi(df, species, col_names={\"trait_val\":\"size\",\"trait_var\":\"size_v\"}))\n",
      "    yearly[-1][\"date\"] = date\n",
      "yearly = pd.DataFrame(yearly)\n",
      "\n",
      "## Least square linear regression of the yearly indice\n",
      "A = np.vstack([yearly.date.values,\n",
      "              np.ones(len(yearly.date.values))]).T\n",
      "slope,intercept = np.linalg.lstsq(A, yearly.cwm.values)[0]\n",
      "\n",
      "plt.plot(yearly.date.values,  yearly.cwm.values, 'o', label='Original data', markersize=10)\n",
      "plt.plot(yearly.date.values, slope*yearly.date.values + intercept, 'r', label='Fitted line')\n",
      "print \"CWM trend:            {}\".format(slope)\n",
      "print \"Sum of contributions: {}\".format(contrib.contrib.sum())\n",
      "\n",
      "## Least square linear regression of the yearly indice\n",
      "slope,intercept = np.linalg.lstsq(A, yearly.cwv.values)[0]\n",
      "print \"CWV trend:            {}\".format(slope)\n",
      "print \"Sum of contributions: {}\".format(contrib.v_contrib.sum())"
     ],
     "language": "python",
     "metadata": {},
     "outputs": [
      {
       "output_type": "stream",
       "stream": "stdout",
       "text": [
        "CWM trend:            0.0123805463489\n",
        "Sum of contributions: 0.0123805463489\n",
        "CWV trend:            0.00706812206748\n",
        "Sum of contributions: 0.00716872498481\n"
       ]
      },
      {
       "metadata": {},
       "output_type": "display_data",
       "png": "[encoded data removed]",
       "text": [
        "<matplotlib.figure.Figure at 0x3bdbad0>"
       ]
      }
     ],
     "prompt_number": 59
    },
    {
     "cell_type": "markdown",
     "metadata": {},
     "source": [
      "## Grouping observations\n",
      "### By site and/or date\n",
      "Using python's `pandas` library features, it is easy to slice and dice your dataset to lump observations together before computing the indices."
     ]
    },
    {
     "cell_type": "code",
     "collapsed": false,
     "input": [
      "# Restricting to site ST007 for the year 2003\n",
      "out = s3c.cwi(census.query(\"date==3&site=='ST003'\"), species, col_names={\"trait_val\":\"size\",\"trait_var\":\"size_v\"})\n",
      "print \"ST007/2003: {}\".format(out)\n",
      "\n",
      "for date, df in census.groupby(\"date\"):\n",
      "    out = s3c.cwi(df, species, col_names={\"trait_val\":\"size\",\"trait_var\":\"size_v\"})\n",
      "    print \"Year {}: {}\".format(date,out)"
     ],
     "language": "python",
     "metadata": {},
     "outputs": [
      {
       "output_type": "stream",
       "stream": "stdout",
       "text": [
        "ST007/2003: {'cwm': -0.78551152195155594, 'cwv': 0.079400223490094679}\n",
        "Year 1: {'cwm': -0.77238466143486584, 'cwv': 0.083122516608191255}\n",
        "Year 2: {'cwm': -0.71927294563690802, 'cwv': 0.11023624722053538}\n",
        "Year 3: {'cwm': -0.74762356873708946, 'cwv': 0.097459966577810642}"
       ]
      },
      {
       "output_type": "stream",
       "stream": "stdout",
       "text": [
        "\n"
       ]
      }
     ],
     "prompt_number": 30
    },
    {
     "cell_type": "markdown",
     "metadata": {},
     "source": [
      "We have included the `cwi_stratified` command, that will automatically group the results by site and date for you (provided that you have a `site` and `date` column in your `census` or that you have given other columns names using the `col_names` option."
     ]
    },
    {
     "cell_type": "code",
     "collapsed": false,
     "input": [
      "out = s3c.cwi_stratified(census, species, col_names={\"trait_val\":\"size\",\"trait_var\":\"size_v\"})\n",
      "out.head()"
     ],
     "language": "python",
     "metadata": {},
     "outputs": [
      {
       "html": [
        "<div style=\"max-height:1000px;max-width:1500px;overflow:auto;\">\n",
        "<table border=\"1\" class=\"dataframe\">\n",
        "  <thead>\n",
        "    <tr style=\"text-align: right;\">\n",
        "      <th></th>\n",
        "      <th>cwm</th>\n",
        "      <th>cwv</th>\n",
        "      <th>date</th>\n",
        "      <th>n</th>\n",
        "      <th>site</th>\n",
        "    </tr>\n",
        "  </thead>\n",
        "  <tbody>\n",
        "    <tr>\n",
        "      <th>0</th>\n",
        "      <td>-0.759191</td>\n",
        "      <td> 0.089213</td>\n",
        "      <td> 1</td>\n",
        "      <td> 35</td>\n",
        "      <td> ST000</td>\n",
        "    </tr>\n",
        "    <tr>\n",
        "      <th>1</th>\n",
        "      <td>-0.742439</td>\n",
        "      <td> 0.097529</td>\n",
        "      <td> 2</td>\n",
        "      <td> 52</td>\n",
        "      <td> ST000</td>\n",
        "    </tr>\n",
        "    <tr>\n",
        "      <th>2</th>\n",
        "      <td>-0.764849</td>\n",
        "      <td> 0.089658</td>\n",
        "      <td> 3</td>\n",
        "      <td> 53</td>\n",
        "      <td> ST000</td>\n",
        "    </tr>\n",
        "    <tr>\n",
        "      <th>3</th>\n",
        "      <td>-0.836113</td>\n",
        "      <td> 0.044986</td>\n",
        "      <td> 1</td>\n",
        "      <td> 26</td>\n",
        "      <td> ST001</td>\n",
        "    </tr>\n",
        "    <tr>\n",
        "      <th>4</th>\n",
        "      <td>-0.679001</td>\n",
        "      <td> 0.124490</td>\n",
        "      <td> 2</td>\n",
        "      <td> 33</td>\n",
        "      <td> ST001</td>\n",
        "    </tr>\n",
        "  </tbody>\n",
        "</table>\n",
        "</div>"
       ],
       "metadata": {},
       "output_type": "pyout",
       "prompt_number": 31,
       "text": [
        "        cwm       cwv  date   n   site\n",
        "0 -0.759191  0.089213     1  35  ST000\n",
        "1 -0.742439  0.097529     2  52  ST000\n",
        "2 -0.764849  0.089658     3  53  ST000\n",
        "3 -0.836113  0.044986     1  26  ST001\n",
        "4 -0.679001  0.124490     2  33  ST001"
       ]
      }
     ],
     "prompt_number": 31
    },
    {
     "cell_type": "markdown",
     "metadata": {},
     "source": [
      "### By distance\n",
      "If you know the distance between your sampling site, you can pool each site with the sites that are nearer than a given range (such as performed in [ref]).\n",
      "\n",
      "Let us start with a file containing the position of the sampling site."
     ]
    },
    {
     "cell_type": "code",
     "collapsed": false,
     "input": [
      "sites = pd.read_csv(\"sites.csv\")\n",
      "sites.head()"
     ],
     "language": "python",
     "metadata": {},
     "outputs": [
      {
       "html": [
        "<div style=\"max-height:1000px;max-width:1500px;overflow:auto;\">\n",
        "<table border=\"1\" class=\"dataframe\">\n",
        "  <thead>\n",
        "    <tr style=\"text-align: right;\">\n",
        "      <th></th>\n",
        "      <th>site</th>\n",
        "      <th>x</th>\n",
        "      <th>y</th>\n",
        "    </tr>\n",
        "  </thead>\n",
        "  <tbody>\n",
        "    <tr>\n",
        "      <th>0</th>\n",
        "      <td> ST000</td>\n",
        "      <td> 74.725151</td>\n",
        "      <td> 89.155723</td>\n",
        "    </tr>\n",
        "    <tr>\n",
        "      <th>1</th>\n",
        "      <td> ST001</td>\n",
        "      <td> 63.586296</td>\n",
        "      <td> 54.181202</td>\n",
        "    </tr>\n",
        "    <tr>\n",
        "      <th>2</th>\n",
        "      <td> ST002</td>\n",
        "      <td> 28.286953</td>\n",
        "      <td> 26.746472</td>\n",
        "    </tr>\n",
        "    <tr>\n",
        "      <th>3</th>\n",
        "      <td> ST003</td>\n",
        "      <td> 64.645162</td>\n",
        "      <td> 24.594029</td>\n",
        "    </tr>\n",
        "    <tr>\n",
        "      <th>4</th>\n",
        "      <td> ST004</td>\n",
        "      <td> 30.975652</td>\n",
        "      <td> 93.664074</td>\n",
        "    </tr>\n",
        "  </tbody>\n",
        "</table>\n",
        "</div>"
       ],
       "metadata": {},
       "output_type": "pyout",
       "prompt_number": 32,
       "text": [
        "    site          x          y\n",
        "0  ST000  74.725151  89.155723\n",
        "1  ST001  63.586296  54.181202\n",
        "2  ST002  28.286953  26.746472\n",
        "3  ST003  64.645162  24.594029\n",
        "4  ST004  30.975652  93.664074"
       ]
      }
     ],
     "prompt_number": 32
    },
    {
     "cell_type": "markdown",
     "metadata": {},
     "source": [
      "The `s3c.spatial` modules contains functions to deal with the grouping of site by distance.\n",
      "\n",
      "Firstly, the `s3c.spatial.distance(dataFrame)` function build a dictionnary of distances that will be used in the following analysis. You can build this dictionnary yourself, it must contain each pair of site as a key. "
     ]
    },
    {
     "cell_type": "code",
     "collapsed": false,
     "input": [
      "# Build a distance matrix.\n",
      "distance = s3c.spatial.distances(sites)\n",
      "\n",
      "#Print some values\n",
      "for k,v in distance.items()[:3]:\n",
      "    print \"{}: {}\".format(k,v)"
     ],
     "language": "python",
     "metadata": {},
     "outputs": [
      {
       "output_type": "stream",
       "stream": "stdout",
       "text": [
        "('ST009', 'ST005'): 63.7679913657\n",
        "('ST002', 'ST007'): 22.33537314\n",
        "('ST001', 'ST004'): 51.2088988693\n"
       ]
      }
     ],
     "prompt_number": 33
    },
    {
     "cell_type": "markdown",
     "metadata": {},
     "source": [
      "The function `s3c.spatial.kde(dataFrame)` can be used on a census dataframe to regroup sites based on their distances. \n",
      "\n",
      "There are several ways to do so, giving different weights to the neighborings sites:\n",
      "\n",
      "- Using the built-in `threshold` option.\n",
      "- Using the built-in `linear` or `gaussian` functions\n",
      "- Use your own function.\n"
     ]
    },
    {
     "cell_type": "code",
     "collapsed": false,
     "input": [
      "# Thresholded: w = 0 if d>threshold, w=1 if d>= threshold.\n",
      "threshold =  s3c.spatial.kde(census,distance,\"threshold\",threshold=10)\n",
      "print s3c.cwi(threshold, species, col_names={\"trait_val\":\"size\",\"trait_var\":\"size_v\"})\n",
      "\n",
      "# Linear w = -dampening*d.\n",
      "linear =  s3c.spatial.kde(census,distance,\"linear\",dampening=3)\n",
      "print s3c.cwi(linear, species, col_names={\"trait_val\":\"size\",\"trait_var\":\"size_v\"})\n",
      "\n",
      "# Gaussian: w = 1/(dampening * sqrt(2*np.pi)) * exp(-d**2/2*dampening**2).\n",
      "gaussian =   s3c.spatial.kde(census, distance,\"gaussian\",dampening=3)\n",
      "print s3c.cwi(gaussian, species, col_names={\"trait_val\":\"size\",\"trait_var\":\"size_v\"})\n",
      "\n",
      "# User-defined function. Here w = -exp(d).\n",
      "other_function  =   s3c.spatial.kde(census, distance, lambda x: np.exp(-x),dampening=3)\n",
      "print  s3c.cwi(other_function, species, col_names={\"trait_val\":\"size\",\"trait_var\":\"size_v\"})"
     ],
     "language": "python",
     "metadata": {},
     "outputs": [
      {
       "output_type": "stream",
       "stream": "stdout",
       "text": [
        "{'cwm': -0.74446209614719594, 'cwv': 0.098499311249558241}\n",
        "{'cwm': -0.74446209614719594, 'cwv': 0.098691692716842541}\n",
        "{'cwm': -0.74446209614719594, 'cwv': 0.099964657666936907}"
       ]
      },
      {
       "output_type": "stream",
       "stream": "stdout",
       "text": [
        "\n",
        "{'cwm': -0.74446209614719483, 'cwv': 0.098691692716842958}\n"
       ]
      }
     ],
     "prompt_number": 34
    },
    {
     "cell_type": "code",
     "collapsed": false,
     "input": [],
     "language": "python",
     "metadata": {},
     "outputs": []
    }
   ],
   "metadata": {}
  }
 ]
}