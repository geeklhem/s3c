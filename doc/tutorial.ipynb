{
 "metadata": {
  "name": "",
  "signature": "sha256:2a6c15e613d1c61b0d352803b6538b7e94648715f9838aa29afd3450bbdece2d"
 },
 "nbformat": 3,
 "nbformat_minor": 0,
 "worksheets": [
  {
   "cells": [
    {
     "cell_type": "markdown",
     "metadata": {},
     "source": [
      "# Specific contributions to community changes tutorial\n",
      "\n",
      "Welcome in the tutorial for the `s3c` python package to assess specific contributions to community changes.\n",
      "\n",
      "This tutorial is an [ipython notebook](http://ipython.org/notebook.html), you can read the static version on the internet or download the interactive version in order to fiddle with the code inside.\n",
      "\n",
      "## Data exploration\n",
      "\n",
      "We will start by importing a fake dataset included in the folder `doc/demo` of the package. \n",
      "The file `species.csv` contains the informations about the trait value of a species. The file `census.csv` gives the number of individuals of each species by date and surveyed site.\n",
      "\n",
      "In a lot of functions of `s3c`, default columns names are `n`, `date`, `site`, `species`, `trait_value`, `trait_var`. Note that you can overwrite thoses names by using the col_names dictionary."
     ]
    },
    {
     "cell_type": "code",
     "collapsed": false,
     "input": [
      "import matplotlib.pyplot as plt\n",
      "import numpy as np\n",
      "import pandas as pd\n",
      "import s3c"
     ],
     "language": "python",
     "metadata": {},
     "outputs": [],
     "prompt_number": 3
    },
    {
     "cell_type": "code",
     "collapsed": false,
     "input": [
      "species = pd.read_csv(\"species.csv\")\n",
      "species.head()"
     ],
     "language": "python",
     "metadata": {},
     "outputs": [
      {
       "html": [
        "<div style=\"max-height:1000px;max-width:1500px;overflow:auto;\">\n",
        "<table border=\"1\" class=\"dataframe\">\n",
        "  <thead>\n",
        "    <tr style=\"text-align: right;\">\n",
        "      <th></th>\n",
        "      <th>species</th>\n",
        "      <th>size</th>\n",
        "      <th>size_v</th>\n",
        "    </tr>\n",
        "  </thead>\n",
        "  <tbody>\n",
        "    <tr>\n",
        "      <th>0</th>\n",
        "      <td> SP000</td>\n",
        "      <td> 43.534530</td>\n",
        "      <td> 0.218857</td>\n",
        "    </tr>\n",
        "    <tr>\n",
        "      <th>1</th>\n",
        "      <td> SP001</td>\n",
        "      <td> 52.146126</td>\n",
        "      <td> 0.024339</td>\n",
        "    </tr>\n",
        "    <tr>\n",
        "      <th>2</th>\n",
        "      <td> SP002</td>\n",
        "      <td> 82.948404</td>\n",
        "      <td> 0.695674</td>\n",
        "    </tr>\n",
        "    <tr>\n",
        "      <th>3</th>\n",
        "      <td> SP003</td>\n",
        "      <td> 81.232978</td>\n",
        "      <td> 0.392458</td>\n",
        "    </tr>\n",
        "    <tr>\n",
        "      <th>4</th>\n",
        "      <td> SP004</td>\n",
        "      <td> 23.811398</td>\n",
        "      <td> 0.114248</td>\n",
        "    </tr>\n",
        "  </tbody>\n",
        "</table>\n",
        "</div>"
       ],
       "metadata": {},
       "output_type": "pyout",
       "prompt_number": 33,
       "text": [
        "  species       size    size_v\n",
        "0   SP000  43.534530  0.218857\n",
        "1   SP001  52.146126  0.024339\n",
        "2   SP002  82.948404  0.695674\n",
        "3   SP003  81.232978  0.392458\n",
        "4   SP004  23.811398  0.114248"
       ]
      }
     ],
     "prompt_number": 33
    },
    {
     "cell_type": "code",
     "collapsed": false,
     "input": [
      "census = pd.read_csv(\"census.csv\")\n",
      "census.head()"
     ],
     "language": "python",
     "metadata": {},
     "outputs": [
      {
       "html": [
        "<div style=\"max-height:1000px;max-width:1500px;overflow:auto;\">\n",
        "<table border=\"1\" class=\"dataframe\">\n",
        "  <thead>\n",
        "    <tr style=\"text-align: right;\">\n",
        "      <th></th>\n",
        "      <th>site</th>\n",
        "      <th>date</th>\n",
        "      <th>species</th>\n",
        "      <th>n</th>\n",
        "    </tr>\n",
        "  </thead>\n",
        "  <tbody>\n",
        "    <tr>\n",
        "      <th>0</th>\n",
        "      <td> ST007</td>\n",
        "      <td> 2003</td>\n",
        "      <td> SP019</td>\n",
        "      <td> 8</td>\n",
        "    </tr>\n",
        "    <tr>\n",
        "      <th>1</th>\n",
        "      <td> ST004</td>\n",
        "      <td> 2003</td>\n",
        "      <td> SP021</td>\n",
        "      <td> 0</td>\n",
        "    </tr>\n",
        "    <tr>\n",
        "      <th>2</th>\n",
        "      <td> ST008</td>\n",
        "      <td> 2003</td>\n",
        "      <td> SP028</td>\n",
        "      <td> 8</td>\n",
        "    </tr>\n",
        "    <tr>\n",
        "      <th>3</th>\n",
        "      <td> ST005</td>\n",
        "      <td> 2003</td>\n",
        "      <td> SP032</td>\n",
        "      <td> 7</td>\n",
        "    </tr>\n",
        "    <tr>\n",
        "      <th>4</th>\n",
        "      <td> ST007</td>\n",
        "      <td> 2003</td>\n",
        "      <td> SP004</td>\n",
        "      <td> 7</td>\n",
        "    </tr>\n",
        "  </tbody>\n",
        "</table>\n",
        "</div>"
       ],
       "metadata": {},
       "output_type": "pyout",
       "prompt_number": 32,
       "text": [
        "    site  date species  n\n",
        "0  ST007  2003   SP019  8\n",
        "1  ST004  2003   SP021  0\n",
        "2  ST008  2003   SP028  8\n",
        "3  ST005  2003   SP032  7\n",
        "4  ST007  2003   SP004  7"
       ]
      }
     ],
     "prompt_number": 32
    },
    {
     "cell_type": "markdown",
     "metadata": {},
     "source": [
      "## Compute local indices\n",
      "\n",
      "The function `s3c.cwm(census,species)` will compute the community weighted means (`cwm`) and variances (`cwv`)."
     ]
    },
    {
     "cell_type": "code",
     "collapsed": false,
     "input": [
      "out = s3c.cwi(census, species, col_names={\"trait_val\":\"size\",\"trait_var\":\"size_v\"})\n",
      "out"
     ],
     "language": "python",
     "metadata": {},
     "outputs": [
      {
       "metadata": {},
       "output_type": "pyout",
       "prompt_number": 31,
       "text": [
        "{'cwm': 50.751824869437755, 'cwv': 2423988.1655900856}"
       ]
      }
     ],
     "prompt_number": 31
    },
    {
     "cell_type": "markdown",
     "metadata": {},
     "source": [
      "The `bootstrap=True` options will compute a bootstrap confidence interval for thoses indices. \n",
      "\n",
      "By default :\n",
      "- $b=1000$ redraw are performed, you can change this by using the option `bootstrap_n`.\n",
      "- The confidence interval is for the 5%-95% percentiles, you can change this by using the option `bootstrap_ci` (default=.95)"
     ]
    },
    {
     "cell_type": "code",
     "collapsed": false,
     "input": [
      "out = s3c.cwi(census, species,\n",
      "              col_names={\"trait_val\":\"size\",\"trait_var\":\"size_v\"},\n",
      "              bootstrap=True,\n",
      "              bootstrap_n=100,\n",
      "              bootstrap_ci=.95)\n",
      "\n",
      "print \"\\n\".join([\"{}: {}\".format(k,v) for k,v in out.items()])"
     ],
     "language": "python",
     "metadata": {},
     "outputs": [
      {
       "output_type": "stream",
       "stream": "stdout",
       "text": [
        "bootstrap_cwm_lower_ci: 49.5254456168\n",
        "bootstrap_cwm_higher_ci: 49.5764742716\n",
        "bootstrap_cwv_higher_ci: 2345340.40996\n",
        "bootstrap_cwm: 50.7433372607\n",
        "bootstrap_cwv_lower_ci: 2338965.1326\n",
        "cwv: 2423988.16559\n",
        "cwm: 50.7518248694\n",
        "bootstrap_cwv: 2425533.79238\n"
       ]
      }
     ],
     "prompt_number": 30
    },
    {
     "cell_type": "markdown",
     "metadata": {},
     "source": [
      "## Compute specific contributions to variations"
     ]
    },
    {
     "cell_type": "markdown",
     "metadata": {},
     "source": [
      "The function `s3c.cwm(census,species)` will compute the community weighted means and variances for each site and date. "
     ]
    },
    {
     "cell_type": "code",
     "collapsed": false,
     "input": [
      "ctrb = s3c.contrib(census.query(\"date==2003\"),\n",
      "                   census.query(\"date==2004\"),\n",
      "                   species,col_names={\"trait_val\":\"size\",\"trait_var\":\"size_v\"})\n",
      "ctrb.head()"
     ],
     "language": "python",
     "metadata": {},
     "outputs": [
      {
       "html": [
        "<div style=\"max-height:1000px;max-width:1500px;overflow:auto;\">\n",
        "<table border=\"1\" class=\"dataframe\">\n",
        "  <thead>\n",
        "    <tr style=\"text-align: right;\">\n",
        "      <th></th>\n",
        "      <th>species</th>\n",
        "      <th>originality</th>\n",
        "      <th>dp</th>\n",
        "      <th>contrib</th>\n",
        "    </tr>\n",
        "  </thead>\n",
        "  <tbody>\n",
        "    <tr>\n",
        "      <th>0</th>\n",
        "      <td> SP003</td>\n",
        "      <td> 31.050282</td>\n",
        "      <td>-0.046785</td>\n",
        "      <td>-1.452690</td>\n",
        "    </tr>\n",
        "    <tr>\n",
        "      <th>1</th>\n",
        "      <td> SP004</td>\n",
        "      <td>-26.371298</td>\n",
        "      <td>-0.172414</td>\n",
        "      <td> 4.546776</td>\n",
        "    </tr>\n",
        "    <tr>\n",
        "      <th>2</th>\n",
        "      <td> SP018</td>\n",
        "      <td>-11.542944</td>\n",
        "      <td> 0.028275</td>\n",
        "      <td>-0.326376</td>\n",
        "    </tr>\n",
        "    <tr>\n",
        "      <th>3</th>\n",
        "      <td> SP019</td>\n",
        "      <td> 45.433466</td>\n",
        "      <td>-0.042684</td>\n",
        "      <td>-1.939296</td>\n",
        "    </tr>\n",
        "    <tr>\n",
        "      <th>4</th>\n",
        "      <td> SP021</td>\n",
        "      <td>  0.691701</td>\n",
        "      <td> 0.005256</td>\n",
        "      <td> 0.003636</td>\n",
        "    </tr>\n",
        "  </tbody>\n",
        "</table>\n",
        "</div>"
       ],
       "metadata": {},
       "output_type": "pyout",
       "prompt_number": 29,
       "text": [
        "  species  originality        dp   contrib\n",
        "0   SP003    31.050282 -0.046785 -1.452690\n",
        "1   SP004   -26.371298 -0.172414  4.546776\n",
        "2   SP018   -11.542944  0.028275 -0.326376\n",
        "3   SP019    45.433466 -0.042684 -1.939296\n",
        "4   SP021     0.691701  0.005256  0.003636"
       ]
      }
     ],
     "prompt_number": 29
    },
    {
     "cell_type": "markdown",
     "metadata": {},
     "source": [
      "You can check that the sum of contributions is equal to the variation of the indice :"
     ]
    },
    {
     "cell_type": "code",
     "collapsed": false,
     "input": [
      "cwm2003 = s3c.cwi(census.query(\"date==2003\"), species, col_names={\"trait_val\":\"size\",\"trait_var\":\"size_v\"})\n",
      "cwm2004 = s3c.cwi(census.query(\"date==2004\"), species, col_names={\"trait_val\":\"size\",\"trait_var\":\"size_v\"})\n",
      "deltaCWM = cwm2004[\"cwm\"] - cwm2003[\"cwm\"]\n",
      "print \"CWM variation:    {}\".format(deltaCWM)\n",
      "print \"Contribution sum: {}\".format(ctrb.contrib.sum())"
     ],
     "language": "python",
     "metadata": {},
     "outputs": [
      {
       "output_type": "stream",
       "stream": "stdout",
       "text": [
        "CWM variation:    10.6200949755\n",
        "Contribution sum: 10.6200949755\n"
       ]
      }
     ],
     "prompt_number": 28
    },
    {
     "cell_type": "markdown",
     "metadata": {},
     "source": [
      "## Grouping observations\n",
      "### By site and/or date\n",
      "Using python's `pandas` library features, it is easy to slice and dice your dataset to lump observations together before computing the indices."
     ]
    },
    {
     "cell_type": "code",
     "collapsed": false,
     "input": [
      "# Restricting to site ST007 for the year 2003\n",
      "out = s3c.cwi(census.query(\"date==2003&site=='ST007'\"), species, col_names={\"trait_val\":\"size\",\"trait_var\":\"size_v\"})\n",
      "print \"ST007/2003: {}\".format(out)\n",
      "\n",
      "for date, df in census.groupby(\"date\"):\n",
      "    out = s3c.cwi(df, species, col_names={\"trait_val\":\"size\",\"trait_var\":\"size_v\"})\n",
      "    print \"Year {}: {}\".format(date,out)"
     ],
     "language": "python",
     "metadata": {},
     "outputs": [
      {
       "output_type": "stream",
       "stream": "stdout",
       "text": [
        "ST007/2003: {'cwm': 69.757554265350166, 'cwv': 21443.539160281969}\n",
        "Year 2003: {'cwm': 42.121422708465303, 'cwv': 81613.539876487441}\n",
        "Year 2004: {'cwm': 52.741517684009636, 'cwv': 531206.51719973516}\n",
        "Year 2005: {'cwm': 44.377472984864482, 'cwv': 61369.043991450788}\n",
        "Year 2006: {'cwm': 45.526023806672896, 'cwv': 351443.26616058475}\n",
        "Year 2007: {'cwm': 52.547754425151922, 'cwv': 574350.2650022161}\n",
        "Year 2008: {'cwm': 51.410230782080603, 'cwv': 796173.67685023148}"
       ]
      },
      {
       "output_type": "stream",
       "stream": "stdout",
       "text": [
        "\n"
       ]
      }
     ],
     "prompt_number": 27
    },
    {
     "cell_type": "markdown",
     "metadata": {},
     "source": [
      "We have included the `cwi_stratified` command, that will automatically group the results by site and date for you (provided that you have a `site` and `date` column in your `census` or that you have given other columns names using the `col_names` option."
     ]
    },
    {
     "cell_type": "code",
     "collapsed": false,
     "input": [
      "out = s3c.cwi_stratified(census, species, col_names={\"trait_val\":\"size\",\"trait_var\":\"size_v\"})\n",
      "out.head()"
     ],
     "language": "python",
     "metadata": {},
     "outputs": [
      {
       "html": [
        "<div style=\"max-height:1000px;max-width:1500px;overflow:auto;\">\n",
        "<table border=\"1\" class=\"dataframe\">\n",
        "  <thead>\n",
        "    <tr style=\"text-align: right;\">\n",
        "      <th></th>\n",
        "      <th>cwm</th>\n",
        "      <th>cwv</th>\n",
        "      <th>date</th>\n",
        "      <th>n</th>\n",
        "      <th>site</th>\n",
        "    </tr>\n",
        "  </thead>\n",
        "  <tbody>\n",
        "    <tr>\n",
        "      <th>0</th>\n",
        "      <td> 31.483206</td>\n",
        "      <td> 46296.828839</td>\n",
        "      <td> 2004</td>\n",
        "      <td> 70</td>\n",
        "      <td> ST000</td>\n",
        "    </tr>\n",
        "    <tr>\n",
        "      <th>1</th>\n",
        "      <td> 66.692359</td>\n",
        "      <td>     0.000000</td>\n",
        "      <td> 2005</td>\n",
        "      <td> 16</td>\n",
        "      <td> ST000</td>\n",
        "    </tr>\n",
        "    <tr>\n",
        "      <th>2</th>\n",
        "      <td> 39.839048</td>\n",
        "      <td>  7513.903187</td>\n",
        "      <td> 2006</td>\n",
        "      <td> 13</td>\n",
        "      <td> ST000</td>\n",
        "    </tr>\n",
        "    <tr>\n",
        "      <th>3</th>\n",
        "      <td> 47.790087</td>\n",
        "      <td> 42176.577972</td>\n",
        "      <td> 2007</td>\n",
        "      <td> 45</td>\n",
        "      <td> ST000</td>\n",
        "    </tr>\n",
        "    <tr>\n",
        "      <th>4</th>\n",
        "      <td> 12.812075</td>\n",
        "      <td> 10071.399331</td>\n",
        "      <td> 2008</td>\n",
        "      <td> 28</td>\n",
        "      <td> ST000</td>\n",
        "    </tr>\n",
        "  </tbody>\n",
        "</table>\n",
        "</div>"
       ],
       "metadata": {},
       "output_type": "pyout",
       "prompt_number": 26,
       "text": [
        "         cwm           cwv  date   n   site\n",
        "0  31.483206  46296.828839  2004  70  ST000\n",
        "1  66.692359      0.000000  2005  16  ST000\n",
        "2  39.839048   7513.903187  2006  13  ST000\n",
        "3  47.790087  42176.577972  2007  45  ST000\n",
        "4  12.812075  10071.399331  2008  28  ST000"
       ]
      }
     ],
     "prompt_number": 26
    },
    {
     "cell_type": "markdown",
     "metadata": {},
     "source": [
      "### By distance\n",
      "If you know the distance between your sampling site, you can pool each site with the sites that are nearer than a given range (such as performed in [ref]).\n",
      "\n",
      "Let us start with a file containing the position of the sampling site."
     ]
    },
    {
     "cell_type": "code",
     "collapsed": false,
     "input": [
      "sites = pd.read_csv(\"sites.csv\")\n",
      "sites.head()"
     ],
     "language": "python",
     "metadata": {},
     "outputs": [
      {
       "html": [
        "<div style=\"max-height:1000px;max-width:1500px;overflow:auto;\">\n",
        "<table border=\"1\" class=\"dataframe\">\n",
        "  <thead>\n",
        "    <tr style=\"text-align: right;\">\n",
        "      <th></th>\n",
        "      <th>site</th>\n",
        "      <th>x</th>\n",
        "      <th>y</th>\n",
        "    </tr>\n",
        "  </thead>\n",
        "  <tbody>\n",
        "    <tr>\n",
        "      <th>0</th>\n",
        "      <td> ST000</td>\n",
        "      <td> 74.725151</td>\n",
        "      <td> 89.155723</td>\n",
        "    </tr>\n",
        "    <tr>\n",
        "      <th>1</th>\n",
        "      <td> ST001</td>\n",
        "      <td> 63.586296</td>\n",
        "      <td> 54.181202</td>\n",
        "    </tr>\n",
        "    <tr>\n",
        "      <th>2</th>\n",
        "      <td> ST002</td>\n",
        "      <td> 28.286953</td>\n",
        "      <td> 26.746472</td>\n",
        "    </tr>\n",
        "    <tr>\n",
        "      <th>3</th>\n",
        "      <td> ST003</td>\n",
        "      <td> 64.645162</td>\n",
        "      <td> 24.594029</td>\n",
        "    </tr>\n",
        "    <tr>\n",
        "      <th>4</th>\n",
        "      <td> ST004</td>\n",
        "      <td> 30.975652</td>\n",
        "      <td> 93.664074</td>\n",
        "    </tr>\n",
        "  </tbody>\n",
        "</table>\n",
        "</div>"
       ],
       "metadata": {},
       "output_type": "pyout",
       "prompt_number": 23,
       "text": [
        "    site          x          y\n",
        "0  ST000  74.725151  89.155723\n",
        "1  ST001  63.586296  54.181202\n",
        "2  ST002  28.286953  26.746472\n",
        "3  ST003  64.645162  24.594029\n",
        "4  ST004  30.975652  93.664074"
       ]
      }
     ],
     "prompt_number": 23
    },
    {
     "cell_type": "markdown",
     "metadata": {},
     "source": [
      "The `s3c.spatial` modules contains functions to deal with the grouping of site by distance.\n",
      "\n",
      "Firstly, the `s3c.spatial.distance(dataFrame)` function build a dictionnary of distances that will be used in the following analysis. You can build this dictionnary yourself, it must contain each pair of site as a key. "
     ]
    },
    {
     "cell_type": "code",
     "collapsed": false,
     "input": [
      "# Build a distance matrix.\n",
      "distance = s3c.spatial.distances(sites)\n",
      "\n",
      "#Print some values\n",
      "for k,v in distance.items()[:3]:\n",
      "    print \"{}: {}\".format(k,v)"
     ],
     "language": "python",
     "metadata": {},
     "outputs": [
      {
       "output_type": "stream",
       "stream": "stdout",
       "text": [
        "('ST009', 'ST005'): 63.7679913657\n",
        "('ST002', 'ST007'): 22.33537314\n",
        "('ST001', 'ST004'): 51.2088988693\n"
       ]
      }
     ],
     "prompt_number": 25
    },
    {
     "cell_type": "markdown",
     "metadata": {},
     "source": [
      "The function `s3c.spatial.kde(dataFrame)` can be used on a census dataframe to regroup sites based on their distances. \n",
      "\n",
      "There are several ways to do so, giving different weights to the neighborings sites:\n",
      "\n",
      "- Using the built-in `threshold` option.\n",
      "- Using the built-in `linear` or `gaussian` functions\n",
      "- Use your own function.\n"
     ]
    },
    {
     "cell_type": "code",
     "collapsed": false,
     "input": [
      "# Thresholded: w = 0 if d>threshold, w=1 if d>= threshold.\n",
      "threshold =  s3c.spatial.kde(census,distance,\"threshold\",threshold=10)\n",
      "print s3c.cwi(threshold, species, col_names={\"trait_val\":\"size\",\"trait_var\":\"size_v\"})\n",
      "\n",
      "# Linear w = -dampening*d.\n",
      "linear =  s3c.spatial.kde(census,distance,\"linear\",dampening=3)\n",
      "print s3c.cwi(linear, species, col_names={\"trait_val\":\"size\",\"trait_var\":\"size_v\"})\n",
      "\n",
      "# Gaussian: w = 1/(dampening * sqrt(2*np.pi)) * exp(-d**2/2*dampening**2).\n",
      "gaussian =   s3c.spatial.kde(census, distance,\"gaussian\",dampening=3)\n",
      "print s3c.cwi(gaussian, species, col_names={\"trait_val\":\"size\",\"trait_var\":\"size_v\"})\n",
      "\n",
      "# User-defined function. Here w = -exp(d).\n",
      "other_function  =   s3c.spatial.kde(census, distance, lambda x: np.exp(-x),dampening=3)\n",
      "print  s3c.cwi(other_function, species, col_names={\"trait_val\":\"size\",\"trait_var\":\"size_v\"})"
     ],
     "language": "python",
     "metadata": {},
     "outputs": [
      {
       "output_type": "stream",
       "stream": "stdout",
       "text": [
        "{'cwm': 50.615449568805317, 'cwv': 3293872.3734622253}\n",
        "{'cwm': 50.751824869437755, 'cwv': 2423988.1655900856}"
       ]
      },
      {
       "output_type": "stream",
       "stream": "stdout",
       "text": [
        "\n",
        "{'cwm': 50.751824869437769, 'cwv': 322343.78881553136}"
       ]
      },
      {
       "output_type": "stream",
       "stream": "stdout",
       "text": [
        "\n",
        "{'cwm': 50.751810968386792, 'cwv': 2424096.4570618421}"
       ]
      },
      {
       "output_type": "stream",
       "stream": "stdout",
       "text": [
        "\n"
       ]
      }
     ],
     "prompt_number": 21
    },
    {
     "cell_type": "markdown",
     "metadata": {},
     "source": [
      "## Contributions on trends"
     ]
    },
    {
     "cell_type": "code",
     "collapsed": false,
     "input": [
      "#todo"
     ],
     "language": "python",
     "metadata": {},
     "outputs": []
    }
   ],
   "metadata": {}
  }
 ]
}