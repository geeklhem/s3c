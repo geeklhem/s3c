{
 "metadata": {
  "name": "",
  "signature": "sha256:5f724f5d5613e1dc4936feb87a7e1f4dd03a09ddbaf985b558417ba0111b2c55"
 },
 "nbformat": 3,
 "nbformat_minor": 0,
 "worksheets": [
  {
   "cells": [
    {
     "cell_type": "markdown",
     "metadata": {},
     "source": [
      "# Specific contributions to community changes tutorial\n",
      "\n",
      "Welcome in the tutorial for the `s3c` python package to assess specific contributions to community changes.\n",
      "\n",
      "This tutorial is an [ipython notebook](http://ipython.org/notebook.html), you can read the static version on the internet or download the interactive version in order to fiddle with the code inside.\n",
      "\n",
      "## Data exploration\n",
      "\n",
      "We will start by importing a fake dataset included in the folder `doc/demo` of the package. \n",
      "The file `species.csv` contains the informations about the trait value of a species. The file `census.csv` gives the number of individuals of each species by date and surveyed site.\n",
      "\n",
      "In a lot of functions of `s3c`, default columns names are `n`, `date`, `site`, `species`, `trait_value`, `trait_var`. Note that you can overwrite thoses names by using the col_names dictionary."
     ]
    },
    {
     "cell_type": "code",
     "collapsed": false,
     "input": [
      "import matplotlib.pyplot as plt\n",
      "import numpy as np\n",
      "import pandas as pd\n",
      "import s3c"
     ],
     "language": "python",
     "metadata": {},
     "outputs": [],
     "prompt_number": 2
    },
    {
     "cell_type": "code",
     "collapsed": false,
     "input": [
      "species = pd.read_csv(\"species.csv\")\n",
      "species.head()"
     ],
     "language": "python",
     "metadata": {},
     "outputs": [
      {
       "html": [
        "<div style=\"max-height:1000px;max-width:1500px;overflow:auto;\">\n",
        "<table border=\"1\" class=\"dataframe\">\n",
        "  <thead>\n",
        "    <tr style=\"text-align: right;\">\n",
        "      <th></th>\n",
        "      <th>species</th>\n",
        "      <th>size</th>\n",
        "      <th>size_v</th>\n",
        "    </tr>\n",
        "  </thead>\n",
        "  <tbody>\n",
        "    <tr>\n",
        "      <th>0</th>\n",
        "      <td> SP000</td>\n",
        "      <td> 43.534530</td>\n",
        "      <td> 0.218857</td>\n",
        "    </tr>\n",
        "    <tr>\n",
        "      <th>1</th>\n",
        "      <td> SP001</td>\n",
        "      <td> 52.146126</td>\n",
        "      <td> 0.024339</td>\n",
        "    </tr>\n",
        "    <tr>\n",
        "      <th>2</th>\n",
        "      <td> SP002</td>\n",
        "      <td> 82.948404</td>\n",
        "      <td> 0.695674</td>\n",
        "    </tr>\n",
        "    <tr>\n",
        "      <th>3</th>\n",
        "      <td> SP003</td>\n",
        "      <td> 81.232978</td>\n",
        "      <td> 0.392458</td>\n",
        "    </tr>\n",
        "    <tr>\n",
        "      <th>4</th>\n",
        "      <td> SP004</td>\n",
        "      <td> 23.811398</td>\n",
        "      <td> 0.114248</td>\n",
        "    </tr>\n",
        "  </tbody>\n",
        "</table>\n",
        "</div>"
       ],
       "metadata": {},
       "output_type": "pyout",
       "prompt_number": 6,
       "text": [
        "  species       size    size_v\n",
        "0   SP000  43.534530  0.218857\n",
        "1   SP001  52.146126  0.024339\n",
        "2   SP002  82.948404  0.695674\n",
        "3   SP003  81.232978  0.392458\n",
        "4   SP004  23.811398  0.114248"
       ]
      }
     ],
     "prompt_number": 6
    },
    {
     "cell_type": "code",
     "collapsed": false,
     "input": [
      "census = pd.read_csv(\"census.csv\")\n",
      "census.head()"
     ],
     "language": "python",
     "metadata": {},
     "outputs": [
      {
       "html": [
        "<div style=\"max-height:1000px;max-width:1500px;overflow:auto;\">\n",
        "<table border=\"1\" class=\"dataframe\">\n",
        "  <thead>\n",
        "    <tr style=\"text-align: right;\">\n",
        "      <th></th>\n",
        "      <th>site</th>\n",
        "      <th>date</th>\n",
        "      <th>species</th>\n",
        "      <th>n</th>\n",
        "    </tr>\n",
        "  </thead>\n",
        "  <tbody>\n",
        "    <tr>\n",
        "      <th>0</th>\n",
        "      <td> ST007</td>\n",
        "      <td> 2003</td>\n",
        "      <td> SP019</td>\n",
        "      <td> 8</td>\n",
        "    </tr>\n",
        "    <tr>\n",
        "      <th>1</th>\n",
        "      <td> ST004</td>\n",
        "      <td> 2003</td>\n",
        "      <td> SP021</td>\n",
        "      <td> 0</td>\n",
        "    </tr>\n",
        "    <tr>\n",
        "      <th>2</th>\n",
        "      <td> ST008</td>\n",
        "      <td> 2003</td>\n",
        "      <td> SP028</td>\n",
        "      <td> 8</td>\n",
        "    </tr>\n",
        "    <tr>\n",
        "      <th>3</th>\n",
        "      <td> ST005</td>\n",
        "      <td> 2003</td>\n",
        "      <td> SP032</td>\n",
        "      <td> 7</td>\n",
        "    </tr>\n",
        "    <tr>\n",
        "      <th>4</th>\n",
        "      <td> ST007</td>\n",
        "      <td> 2003</td>\n",
        "      <td> SP004</td>\n",
        "      <td> 7</td>\n",
        "    </tr>\n",
        "  </tbody>\n",
        "</table>\n",
        "</div>"
       ],
       "metadata": {},
       "output_type": "pyout",
       "prompt_number": 7,
       "text": [
        "    site  date species  n\n",
        "0  ST007  2003   SP019  8\n",
        "1  ST004  2003   SP021  0\n",
        "2  ST008  2003   SP028  8\n",
        "3  ST005  2003   SP032  7\n",
        "4  ST007  2003   SP004  7"
       ]
      }
     ],
     "prompt_number": 7
    },
    {
     "cell_type": "markdown",
     "metadata": {},
     "source": [
      "## Compute local indices\n",
      "\n",
      "The function `s3c.cwm(census,species)` will compute the community weighted means (`cwm`) and variances (`cwv`)."
     ]
    },
    {
     "cell_type": "code",
     "collapsed": false,
     "input": [
      "out = s3c.cwi(census, species, col_names={\"trait_val\":\"size\",\"trait_var\":\"size_v\"})\n",
      "out"
     ],
     "language": "python",
     "metadata": {},
     "outputs": [
      {
       "metadata": {},
       "output_type": "pyout",
       "prompt_number": 8,
       "text": [
        "{'cwm': 50.751824869437755, 'cwv': 2423988.1655900856}"
       ]
      }
     ],
     "prompt_number": 8
    },
    {
     "cell_type": "markdown",
     "metadata": {},
     "source": [
      "The `bootstrap=True` options will compute a bootstrap confidence interval for thoses indices. \n",
      "\n",
      "By default :\n",
      "- $b=1000$ redraw are performed, you can change this by using the option `bootstrap_n`.\n",
      "- The confidence interval is for the 5%-95% percentiles, you can change this by using the option `bootstrap_ci` (default=.95)"
     ]
    },
    {
     "cell_type": "code",
     "collapsed": false,
     "input": [
      "out = s3c.cwi(census, species,\n",
      "              col_names={\"trait_val\":\"size\",\"trait_var\":\"size_v\"},\n",
      "              bootstrap=True,\n",
      "              bootstrap_n=100,\n",
      "              bootstrap_ci=.95)\n",
      "\n",
      "print \"\\n\".join([\"{}: {}\".format(k,v) for k,v in out.items()])\n"
     ],
     "language": "python",
     "metadata": {},
     "outputs": [
      {
       "output_type": "stream",
       "stream": "stdout",
       "text": [
        "bootstrap_cwm_lower_ci: 49.7120185373\n",
        "bootstrap_cwm_higher_ci: 49.8161671041\n",
        "bootstrap_cwv_higher_ci: 2337189.66653\n",
        "bootstrap_cwm: 50.7470656443\n",
        "bootstrap_cwv_lower_ci: 2336864.7227\n",
        "cwv: 2423988.16559\n",
        "cwm: 50.7518248694\n",
        "bootstrap_cwv: 2423897.6816\n"
       ]
      }
     ],
     "prompt_number": 30
    },
    {
     "cell_type": "markdown",
     "metadata": {},
     "source": [
      "## Compute specific contributions to variations"
     ]
    },
    {
     "cell_type": "markdown",
     "metadata": {},
     "source": [
      "The function `s3c.cwm(census,species)` will compute the community weighted means and variances for each site and date. "
     ]
    },
    {
     "cell_type": "code",
     "collapsed": false,
     "input": [
      "ctrb = s3c.contrib(census.query(\"date==2003\"),\n",
      "                   census.query(\"date==2004\"),\n",
      "                   species,col_names={\"trait_val\":\"size\",\"trait_var\":\"size_v\"})\n",
      "ctrb.head()"
     ],
     "language": "python",
     "metadata": {},
     "outputs": [
      {
       "html": [
        "<div style=\"max-height:1000px;max-width:1500px;overflow:auto;\">\n",
        "<table border=\"1\" class=\"dataframe\">\n",
        "  <thead>\n",
        "    <tr style=\"text-align: right;\">\n",
        "      <th></th>\n",
        "      <th>species</th>\n",
        "      <th>originality</th>\n",
        "      <th>dp</th>\n",
        "      <th>contrib</th>\n",
        "    </tr>\n",
        "  </thead>\n",
        "  <tbody>\n",
        "    <tr>\n",
        "      <th>0</th>\n",
        "      <td> SP000</td>\n",
        "      <td> -0.516036</td>\n",
        "      <td> 0.014532</td>\n",
        "      <td>-0.007499</td>\n",
        "    </tr>\n",
        "    <tr>\n",
        "      <th>1</th>\n",
        "      <td> SP005</td>\n",
        "      <td> 26.373660</td>\n",
        "      <td>-0.041420</td>\n",
        "      <td>-1.092400</td>\n",
        "    </tr>\n",
        "    <tr>\n",
        "      <th>2</th>\n",
        "      <td> SP008</td>\n",
        "      <td> 53.895615</td>\n",
        "      <td>-0.076923</td>\n",
        "      <td>-4.145817</td>\n",
        "    </tr>\n",
        "    <tr>\n",
        "      <th>3</th>\n",
        "      <td> SP009</td>\n",
        "      <td>-32.256067</td>\n",
        "      <td> 0.017229</td>\n",
        "      <td>-0.555752</td>\n",
        "    </tr>\n",
        "    <tr>\n",
        "      <th>4</th>\n",
        "      <td> SP010</td>\n",
        "      <td>-37.419080</td>\n",
        "      <td>-0.040579</td>\n",
        "      <td> 1.518427</td>\n",
        "    </tr>\n",
        "  </tbody>\n",
        "</table>\n",
        "</div>"
       ],
       "metadata": {},
       "output_type": "pyout",
       "prompt_number": 11,
       "text": [
        "  species  originality        dp   contrib\n",
        "0   SP000    -0.516036  0.014532 -0.007499\n",
        "1   SP005    26.373660 -0.041420 -1.092400\n",
        "2   SP008    53.895615 -0.076923 -4.145817\n",
        "3   SP009   -32.256067  0.017229 -0.555752\n",
        "4   SP010   -37.419080 -0.040579  1.518427"
       ]
      }
     ],
     "prompt_number": 11
    },
    {
     "cell_type": "markdown",
     "metadata": {},
     "source": [
      "## Grouping observations\n",
      "### By site and/or date\n",
      "Using python's `pandas` library features, it is easy to slice and dice your dataset to compute the indices to lump observations together."
     ]
    },
    {
     "cell_type": "code",
     "collapsed": false,
     "input": [
      "# Restricting to site ST007 for the year 2003\n",
      "out = s3c.cwi(census.query(\"date==2003&site=='ST007'\"), species, col_names={\"trait_val\":\"size\",\"trait_var\":\"size_v\"})\n",
      "print \"ST007/2003: {}\".format(out)\n",
      "\n",
      "for date, df in census.groupby(\"date\"):\n",
      "    out = s3c.cwi(df, species, col_names={\"trait_val\":\"size\",\"trait_var\":\"size_v\"})\n",
      "    print \"Year {}: {}\".format(date,out)"
     ],
     "language": "python",
     "metadata": {},
     "outputs": [
      {
       "output_type": "stream",
       "stream": "stdout",
       "text": [
        "ST007/2003: {'cwm': 69.757554265350166, 'cwv': 21443.539160281969}\n",
        "Year 2003: {'cwm': 42.121422708465303, 'cwv': 81613.539876487441}\n",
        "Year 2004: {'cwm': 52.741517684009636, 'cwv': 531206.51719973516}\n",
        "Year 2005: {'cwm': 44.377472984864482, 'cwv': 61369.043991450788}\n",
        "Year 2006: {'cwm': 45.526023806672896, 'cwv': 351443.26616058475}\n",
        "Year 2007: {'cwm': 52.547754425151922, 'cwv': 574350.2650022161}\n",
        "Year 2008: {'cwm': 51.410230782080603, 'cwv': 796173.67685023148}"
       ]
      },
      {
       "output_type": "stream",
       "stream": "stdout",
       "text": [
        "\n"
       ]
      }
     ],
     "prompt_number": 34
    },
    {
     "cell_type": "markdown",
     "metadata": {},
     "source": [
      "We have included the `cwi_stratified` command, that will automatically group the results by site and date for you."
     ]
    },
    {
     "cell_type": "code",
     "collapsed": false,
     "input": [
      "out = s3c.cwi_stratified(census, species, col_names={\"trait_val\":\"size\",\"trait_var\":\"size_v\"})\n",
      "out.head()"
     ],
     "language": "python",
     "metadata": {},
     "outputs": [
      {
       "html": [
        "<div style=\"max-height:1000px;max-width:1500px;overflow:auto;\">\n",
        "<table border=\"1\" class=\"dataframe\">\n",
        "  <thead>\n",
        "    <tr style=\"text-align: right;\">\n",
        "      <th></th>\n",
        "      <th>site</th>\n",
        "      <th>date</th>\n",
        "      <th>cwm</th>\n",
        "      <th>cwv</th>\n",
        "      <th>n</th>\n",
        "    </tr>\n",
        "  </thead>\n",
        "  <tbody>\n",
        "    <tr>\n",
        "      <th>0</th>\n",
        "      <td> ST000</td>\n",
        "      <td> 2004</td>\n",
        "      <td> 31.483206</td>\n",
        "      <td> 46296.828839</td>\n",
        "      <td> 70</td>\n",
        "    </tr>\n",
        "    <tr>\n",
        "      <th>1</th>\n",
        "      <td> ST000</td>\n",
        "      <td> 2005</td>\n",
        "      <td> 66.692359</td>\n",
        "      <td>     0.000000</td>\n",
        "      <td> 16</td>\n",
        "    </tr>\n",
        "    <tr>\n",
        "      <th>2</th>\n",
        "      <td> ST000</td>\n",
        "      <td> 2006</td>\n",
        "      <td> 39.839048</td>\n",
        "      <td>  7513.903187</td>\n",
        "      <td> 13</td>\n",
        "    </tr>\n",
        "    <tr>\n",
        "      <th>3</th>\n",
        "      <td> ST000</td>\n",
        "      <td> 2007</td>\n",
        "      <td> 47.790087</td>\n",
        "      <td> 42176.577972</td>\n",
        "      <td> 45</td>\n",
        "    </tr>\n",
        "    <tr>\n",
        "      <th>4</th>\n",
        "      <td> ST000</td>\n",
        "      <td> 2008</td>\n",
        "      <td> 12.812075</td>\n",
        "      <td> 10071.399331</td>\n",
        "      <td> 28</td>\n",
        "    </tr>\n",
        "  </tbody>\n",
        "</table>\n",
        "</div>"
       ],
       "metadata": {},
       "output_type": "pyout",
       "prompt_number": 36,
       "text": [
        "    site  date        cwm           cwv   n\n",
        "0  ST000  2004  31.483206  46296.828839  70\n",
        "1  ST000  2005  66.692359      0.000000  16\n",
        "2  ST000  2006  39.839048   7513.903187  13\n",
        "3  ST000  2007  47.790087  42176.577972  45\n",
        "4  ST000  2008  12.812075  10071.399331  28"
       ]
      }
     ],
     "prompt_number": 36
    },
    {
     "cell_type": "markdown",
     "metadata": {},
     "source": [
      "### By distance\n",
      "If you know the distance between your sampling site, you can pool each site with the sites that are nearer than a given range (such as performed in [ref])."
     ]
    },
    {
     "cell_type": "code",
     "collapsed": false,
     "input": [
      "#todo"
     ],
     "language": "python",
     "metadata": {},
     "outputs": []
    },
    {
     "cell_type": "markdown",
     "metadata": {},
     "source": [
      "## Contributions on trends"
     ]
    },
    {
     "cell_type": "code",
     "collapsed": false,
     "input": [
      "#todo"
     ],
     "language": "python",
     "metadata": {},
     "outputs": []
    }
   ],
   "metadata": {}
  }
 ]
}